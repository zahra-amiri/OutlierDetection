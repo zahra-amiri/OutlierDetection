{
  "nbformat": 4,
  "nbformat_minor": 0,
  "metadata": {
    "colab": {
      "provenance": [],
      "gpuType": "T4"
    },
    "kernelspec": {
      "name": "python3",
      "display_name": "Python 3"
    },
    "language_info": {
      "name": "python"
    },
    "accelerator": "GPU"
  },
  "cells": [
    {
      "cell_type": "code",
      "execution_count": null,
      "metadata": {
        "id": "XK8vRcly3oDr"
      },
      "outputs": [],
      "source": [
        "import os\n",
        "import numpy as np\n",
        "import torch\n",
        "import torch.nn as nn\n",
        "import torch.optim as optim\n",
        "import torchvision.transforms as transforms\n",
        "import torchvision.datasets as datasets\n",
        "from torch.utils.data import DataLoader, Subset\n",
        "from torchvision.models import wide_resnet50_2"
      ]
    },
    {
      "cell_type": "code",
      "source": [
        "# Set device\n",
        "device = torch.device('cuda' if torch.cuda.is_available() else 'cpu')\n",
        "\n",
        "# Define transforms\n",
        "transform = transforms.Compose([\n",
        "    transforms.Resize((224, 224)),\n",
        "    transforms.ToTensor(),\n",
        "    transforms.Normalize((0.485, 0.456, 0.406), (0.229, 0.224, 0.225))\n",
        "])\n",
        "\n",
        "# Load CIFAR-10 dataset\n",
        "train_dataset = datasets.CIFAR10(root='./data', train=True, download=True, transform=transform)\n",
        "valid_dataset = datasets.CIFAR10(root='./data', train=False, download=True, transform=transform)\n",
        "\n",
        "# Define known and outlier classes\n",
        "known_classes = [0, 1, 2, 3, 4]\n",
        "outlier_classes = [5, 6, 7, 8, 9]\n",
        "\n",
        "\n",
        "# Filter the datasets to include only known classes\n",
        "train_indices = [i for i, label in enumerate(train_dataset.targets) if label in known_classes]\n",
        "valid_indices = [i for i, label in enumerate(valid_dataset.targets)]\n",
        "\n",
        "train_dataset = Subset(train_dataset, train_indices)\n",
        "valid_dataset = Subset(valid_dataset, valid_indices)\n",
        "\n",
        "# DataLoaders\n",
        "batch_size = 32\n",
        "train_loader = DataLoader(train_dataset, batch_size=batch_size, shuffle=True, num_workers=8)\n",
        "valid_loader = DataLoader(valid_dataset, batch_size=batch_size, shuffle=False, num_workers=8)\n"
      ],
      "metadata": {
        "colab": {
          "base_uri": "https://localhost:8080/"
        },
        "id": "7emalMEG3o-E",
        "outputId": "455f1fca-ee9c-4ac5-adf9-687da5002d6c"
      },
      "execution_count": null,
      "outputs": [
        {
          "output_type": "stream",
          "name": "stdout",
          "text": [
            "Files already downloaded and verified\n",
            "Files already downloaded and verified\n"
          ]
        }
      ]
    },
    {
      "cell_type": "code",
      "source": [
        "# Load pre-trained WideResNet model\n",
        "model = wide_resnet50_2(pretrained=True)\n",
        "model = nn.Sequential(*list(model.children())[:-1])  # Remove the last layer\n",
        "model.eval()\n",
        "model.to(device)"
      ],
      "metadata": {
        "colab": {
          "base_uri": "https://localhost:8080/"
        },
        "id": "o8y5knTb3s-v",
        "outputId": "6939a34d-0305-461c-e073-552e71e0a8bf",
        "collapsed": true
      },
      "execution_count": null,
      "outputs": [
        {
          "output_type": "execute_result",
          "data": {
            "text/plain": [
              "Sequential(\n",
              "  (0): Conv2d(3, 64, kernel_size=(7, 7), stride=(2, 2), padding=(3, 3), bias=False)\n",
              "  (1): BatchNorm2d(64, eps=1e-05, momentum=0.1, affine=True, track_running_stats=True)\n",
              "  (2): ReLU(inplace=True)\n",
              "  (3): MaxPool2d(kernel_size=3, stride=2, padding=1, dilation=1, ceil_mode=False)\n",
              "  (4): Sequential(\n",
              "    (0): Bottleneck(\n",
              "      (conv1): Conv2d(64, 128, kernel_size=(1, 1), stride=(1, 1), bias=False)\n",
              "      (bn1): BatchNorm2d(128, eps=1e-05, momentum=0.1, affine=True, track_running_stats=True)\n",
              "      (conv2): Conv2d(128, 128, kernel_size=(3, 3), stride=(1, 1), padding=(1, 1), bias=False)\n",
              "      (bn2): BatchNorm2d(128, eps=1e-05, momentum=0.1, affine=True, track_running_stats=True)\n",
              "      (conv3): Conv2d(128, 256, kernel_size=(1, 1), stride=(1, 1), bias=False)\n",
              "      (bn3): BatchNorm2d(256, eps=1e-05, momentum=0.1, affine=True, track_running_stats=True)\n",
              "      (relu): ReLU(inplace=True)\n",
              "      (downsample): Sequential(\n",
              "        (0): Conv2d(64, 256, kernel_size=(1, 1), stride=(1, 1), bias=False)\n",
              "        (1): BatchNorm2d(256, eps=1e-05, momentum=0.1, affine=True, track_running_stats=True)\n",
              "      )\n",
              "    )\n",
              "    (1): Bottleneck(\n",
              "      (conv1): Conv2d(256, 128, kernel_size=(1, 1), stride=(1, 1), bias=False)\n",
              "      (bn1): BatchNorm2d(128, eps=1e-05, momentum=0.1, affine=True, track_running_stats=True)\n",
              "      (conv2): Conv2d(128, 128, kernel_size=(3, 3), stride=(1, 1), padding=(1, 1), bias=False)\n",
              "      (bn2): BatchNorm2d(128, eps=1e-05, momentum=0.1, affine=True, track_running_stats=True)\n",
              "      (conv3): Conv2d(128, 256, kernel_size=(1, 1), stride=(1, 1), bias=False)\n",
              "      (bn3): BatchNorm2d(256, eps=1e-05, momentum=0.1, affine=True, track_running_stats=True)\n",
              "      (relu): ReLU(inplace=True)\n",
              "    )\n",
              "    (2): Bottleneck(\n",
              "      (conv1): Conv2d(256, 128, kernel_size=(1, 1), stride=(1, 1), bias=False)\n",
              "      (bn1): BatchNorm2d(128, eps=1e-05, momentum=0.1, affine=True, track_running_stats=True)\n",
              "      (conv2): Conv2d(128, 128, kernel_size=(3, 3), stride=(1, 1), padding=(1, 1), bias=False)\n",
              "      (bn2): BatchNorm2d(128, eps=1e-05, momentum=0.1, affine=True, track_running_stats=True)\n",
              "      (conv3): Conv2d(128, 256, kernel_size=(1, 1), stride=(1, 1), bias=False)\n",
              "      (bn3): BatchNorm2d(256, eps=1e-05, momentum=0.1, affine=True, track_running_stats=True)\n",
              "      (relu): ReLU(inplace=True)\n",
              "    )\n",
              "  )\n",
              "  (5): Sequential(\n",
              "    (0): Bottleneck(\n",
              "      (conv1): Conv2d(256, 256, kernel_size=(1, 1), stride=(1, 1), bias=False)\n",
              "      (bn1): BatchNorm2d(256, eps=1e-05, momentum=0.1, affine=True, track_running_stats=True)\n",
              "      (conv2): Conv2d(256, 256, kernel_size=(3, 3), stride=(2, 2), padding=(1, 1), bias=False)\n",
              "      (bn2): BatchNorm2d(256, eps=1e-05, momentum=0.1, affine=True, track_running_stats=True)\n",
              "      (conv3): Conv2d(256, 512, kernel_size=(1, 1), stride=(1, 1), bias=False)\n",
              "      (bn3): BatchNorm2d(512, eps=1e-05, momentum=0.1, affine=True, track_running_stats=True)\n",
              "      (relu): ReLU(inplace=True)\n",
              "      (downsample): Sequential(\n",
              "        (0): Conv2d(256, 512, kernel_size=(1, 1), stride=(2, 2), bias=False)\n",
              "        (1): BatchNorm2d(512, eps=1e-05, momentum=0.1, affine=True, track_running_stats=True)\n",
              "      )\n",
              "    )\n",
              "    (1): Bottleneck(\n",
              "      (conv1): Conv2d(512, 256, kernel_size=(1, 1), stride=(1, 1), bias=False)\n",
              "      (bn1): BatchNorm2d(256, eps=1e-05, momentum=0.1, affine=True, track_running_stats=True)\n",
              "      (conv2): Conv2d(256, 256, kernel_size=(3, 3), stride=(1, 1), padding=(1, 1), bias=False)\n",
              "      (bn2): BatchNorm2d(256, eps=1e-05, momentum=0.1, affine=True, track_running_stats=True)\n",
              "      (conv3): Conv2d(256, 512, kernel_size=(1, 1), stride=(1, 1), bias=False)\n",
              "      (bn3): BatchNorm2d(512, eps=1e-05, momentum=0.1, affine=True, track_running_stats=True)\n",
              "      (relu): ReLU(inplace=True)\n",
              "    )\n",
              "    (2): Bottleneck(\n",
              "      (conv1): Conv2d(512, 256, kernel_size=(1, 1), stride=(1, 1), bias=False)\n",
              "      (bn1): BatchNorm2d(256, eps=1e-05, momentum=0.1, affine=True, track_running_stats=True)\n",
              "      (conv2): Conv2d(256, 256, kernel_size=(3, 3), stride=(1, 1), padding=(1, 1), bias=False)\n",
              "      (bn2): BatchNorm2d(256, eps=1e-05, momentum=0.1, affine=True, track_running_stats=True)\n",
              "      (conv3): Conv2d(256, 512, kernel_size=(1, 1), stride=(1, 1), bias=False)\n",
              "      (bn3): BatchNorm2d(512, eps=1e-05, momentum=0.1, affine=True, track_running_stats=True)\n",
              "      (relu): ReLU(inplace=True)\n",
              "    )\n",
              "    (3): Bottleneck(\n",
              "      (conv1): Conv2d(512, 256, kernel_size=(1, 1), stride=(1, 1), bias=False)\n",
              "      (bn1): BatchNorm2d(256, eps=1e-05, momentum=0.1, affine=True, track_running_stats=True)\n",
              "      (conv2): Conv2d(256, 256, kernel_size=(3, 3), stride=(1, 1), padding=(1, 1), bias=False)\n",
              "      (bn2): BatchNorm2d(256, eps=1e-05, momentum=0.1, affine=True, track_running_stats=True)\n",
              "      (conv3): Conv2d(256, 512, kernel_size=(1, 1), stride=(1, 1), bias=False)\n",
              "      (bn3): BatchNorm2d(512, eps=1e-05, momentum=0.1, affine=True, track_running_stats=True)\n",
              "      (relu): ReLU(inplace=True)\n",
              "    )\n",
              "  )\n",
              "  (6): Sequential(\n",
              "    (0): Bottleneck(\n",
              "      (conv1): Conv2d(512, 512, kernel_size=(1, 1), stride=(1, 1), bias=False)\n",
              "      (bn1): BatchNorm2d(512, eps=1e-05, momentum=0.1, affine=True, track_running_stats=True)\n",
              "      (conv2): Conv2d(512, 512, kernel_size=(3, 3), stride=(2, 2), padding=(1, 1), bias=False)\n",
              "      (bn2): BatchNorm2d(512, eps=1e-05, momentum=0.1, affine=True, track_running_stats=True)\n",
              "      (conv3): Conv2d(512, 1024, kernel_size=(1, 1), stride=(1, 1), bias=False)\n",
              "      (bn3): BatchNorm2d(1024, eps=1e-05, momentum=0.1, affine=True, track_running_stats=True)\n",
              "      (relu): ReLU(inplace=True)\n",
              "      (downsample): Sequential(\n",
              "        (0): Conv2d(512, 1024, kernel_size=(1, 1), stride=(2, 2), bias=False)\n",
              "        (1): BatchNorm2d(1024, eps=1e-05, momentum=0.1, affine=True, track_running_stats=True)\n",
              "      )\n",
              "    )\n",
              "    (1): Bottleneck(\n",
              "      (conv1): Conv2d(1024, 512, kernel_size=(1, 1), stride=(1, 1), bias=False)\n",
              "      (bn1): BatchNorm2d(512, eps=1e-05, momentum=0.1, affine=True, track_running_stats=True)\n",
              "      (conv2): Conv2d(512, 512, kernel_size=(3, 3), stride=(1, 1), padding=(1, 1), bias=False)\n",
              "      (bn2): BatchNorm2d(512, eps=1e-05, momentum=0.1, affine=True, track_running_stats=True)\n",
              "      (conv3): Conv2d(512, 1024, kernel_size=(1, 1), stride=(1, 1), bias=False)\n",
              "      (bn3): BatchNorm2d(1024, eps=1e-05, momentum=0.1, affine=True, track_running_stats=True)\n",
              "      (relu): ReLU(inplace=True)\n",
              "    )\n",
              "    (2): Bottleneck(\n",
              "      (conv1): Conv2d(1024, 512, kernel_size=(1, 1), stride=(1, 1), bias=False)\n",
              "      (bn1): BatchNorm2d(512, eps=1e-05, momentum=0.1, affine=True, track_running_stats=True)\n",
              "      (conv2): Conv2d(512, 512, kernel_size=(3, 3), stride=(1, 1), padding=(1, 1), bias=False)\n",
              "      (bn2): BatchNorm2d(512, eps=1e-05, momentum=0.1, affine=True, track_running_stats=True)\n",
              "      (conv3): Conv2d(512, 1024, kernel_size=(1, 1), stride=(1, 1), bias=False)\n",
              "      (bn3): BatchNorm2d(1024, eps=1e-05, momentum=0.1, affine=True, track_running_stats=True)\n",
              "      (relu): ReLU(inplace=True)\n",
              "    )\n",
              "    (3): Bottleneck(\n",
              "      (conv1): Conv2d(1024, 512, kernel_size=(1, 1), stride=(1, 1), bias=False)\n",
              "      (bn1): BatchNorm2d(512, eps=1e-05, momentum=0.1, affine=True, track_running_stats=True)\n",
              "      (conv2): Conv2d(512, 512, kernel_size=(3, 3), stride=(1, 1), padding=(1, 1), bias=False)\n",
              "      (bn2): BatchNorm2d(512, eps=1e-05, momentum=0.1, affine=True, track_running_stats=True)\n",
              "      (conv3): Conv2d(512, 1024, kernel_size=(1, 1), stride=(1, 1), bias=False)\n",
              "      (bn3): BatchNorm2d(1024, eps=1e-05, momentum=0.1, affine=True, track_running_stats=True)\n",
              "      (relu): ReLU(inplace=True)\n",
              "    )\n",
              "    (4): Bottleneck(\n",
              "      (conv1): Conv2d(1024, 512, kernel_size=(1, 1), stride=(1, 1), bias=False)\n",
              "      (bn1): BatchNorm2d(512, eps=1e-05, momentum=0.1, affine=True, track_running_stats=True)\n",
              "      (conv2): Conv2d(512, 512, kernel_size=(3, 3), stride=(1, 1), padding=(1, 1), bias=False)\n",
              "      (bn2): BatchNorm2d(512, eps=1e-05, momentum=0.1, affine=True, track_running_stats=True)\n",
              "      (conv3): Conv2d(512, 1024, kernel_size=(1, 1), stride=(1, 1), bias=False)\n",
              "      (bn3): BatchNorm2d(1024, eps=1e-05, momentum=0.1, affine=True, track_running_stats=True)\n",
              "      (relu): ReLU(inplace=True)\n",
              "    )\n",
              "    (5): Bottleneck(\n",
              "      (conv1): Conv2d(1024, 512, kernel_size=(1, 1), stride=(1, 1), bias=False)\n",
              "      (bn1): BatchNorm2d(512, eps=1e-05, momentum=0.1, affine=True, track_running_stats=True)\n",
              "      (conv2): Conv2d(512, 512, kernel_size=(3, 3), stride=(1, 1), padding=(1, 1), bias=False)\n",
              "      (bn2): BatchNorm2d(512, eps=1e-05, momentum=0.1, affine=True, track_running_stats=True)\n",
              "      (conv3): Conv2d(512, 1024, kernel_size=(1, 1), stride=(1, 1), bias=False)\n",
              "      (bn3): BatchNorm2d(1024, eps=1e-05, momentum=0.1, affine=True, track_running_stats=True)\n",
              "      (relu): ReLU(inplace=True)\n",
              "    )\n",
              "  )\n",
              "  (7): Sequential(\n",
              "    (0): Bottleneck(\n",
              "      (conv1): Conv2d(1024, 1024, kernel_size=(1, 1), stride=(1, 1), bias=False)\n",
              "      (bn1): BatchNorm2d(1024, eps=1e-05, momentum=0.1, affine=True, track_running_stats=True)\n",
              "      (conv2): Conv2d(1024, 1024, kernel_size=(3, 3), stride=(2, 2), padding=(1, 1), bias=False)\n",
              "      (bn2): BatchNorm2d(1024, eps=1e-05, momentum=0.1, affine=True, track_running_stats=True)\n",
              "      (conv3): Conv2d(1024, 2048, kernel_size=(1, 1), stride=(1, 1), bias=False)\n",
              "      (bn3): BatchNorm2d(2048, eps=1e-05, momentum=0.1, affine=True, track_running_stats=True)\n",
              "      (relu): ReLU(inplace=True)\n",
              "      (downsample): Sequential(\n",
              "        (0): Conv2d(1024, 2048, kernel_size=(1, 1), stride=(2, 2), bias=False)\n",
              "        (1): BatchNorm2d(2048, eps=1e-05, momentum=0.1, affine=True, track_running_stats=True)\n",
              "      )\n",
              "    )\n",
              "    (1): Bottleneck(\n",
              "      (conv1): Conv2d(2048, 1024, kernel_size=(1, 1), stride=(1, 1), bias=False)\n",
              "      (bn1): BatchNorm2d(1024, eps=1e-05, momentum=0.1, affine=True, track_running_stats=True)\n",
              "      (conv2): Conv2d(1024, 1024, kernel_size=(3, 3), stride=(1, 1), padding=(1, 1), bias=False)\n",
              "      (bn2): BatchNorm2d(1024, eps=1e-05, momentum=0.1, affine=True, track_running_stats=True)\n",
              "      (conv3): Conv2d(1024, 2048, kernel_size=(1, 1), stride=(1, 1), bias=False)\n",
              "      (bn3): BatchNorm2d(2048, eps=1e-05, momentum=0.1, affine=True, track_running_stats=True)\n",
              "      (relu): ReLU(inplace=True)\n",
              "    )\n",
              "    (2): Bottleneck(\n",
              "      (conv1): Conv2d(2048, 1024, kernel_size=(1, 1), stride=(1, 1), bias=False)\n",
              "      (bn1): BatchNorm2d(1024, eps=1e-05, momentum=0.1, affine=True, track_running_stats=True)\n",
              "      (conv2): Conv2d(1024, 1024, kernel_size=(3, 3), stride=(1, 1), padding=(1, 1), bias=False)\n",
              "      (bn2): BatchNorm2d(1024, eps=1e-05, momentum=0.1, affine=True, track_running_stats=True)\n",
              "      (conv3): Conv2d(1024, 2048, kernel_size=(1, 1), stride=(1, 1), bias=False)\n",
              "      (bn3): BatchNorm2d(2048, eps=1e-05, momentum=0.1, affine=True, track_running_stats=True)\n",
              "      (relu): ReLU(inplace=True)\n",
              "    )\n",
              "  )\n",
              "  (8): AdaptiveAvgPool2d(output_size=(1, 1))\n",
              ")"
            ]
          },
          "metadata": {},
          "execution_count": 134
        }
      ]
    },
    {
      "cell_type": "code",
      "source": [
        "# Function to extract features\n",
        "def extract_features(loader):\n",
        "    features = []\n",
        "    labels = []\n",
        "    with torch.no_grad():\n",
        "        for data, target in loader:\n",
        "            data = data.to(device)\n",
        "            feature = model(data).squeeze()\n",
        "            features.append(feature.cpu().numpy())\n",
        "            labels.append(target.numpy())\n",
        "    features = np.concatenate(features, axis=0)\n",
        "    labels = np.concatenate(labels, axis=0)\n",
        "    return features, labels\n",
        "\n",
        "# Extract features\n",
        "train_features, train_labels = extract_features(train_loader)\n",
        "valid_features, valid_labels = extract_features(valid_loader)\n",
        "\n",
        "mask = np.isin(valid_labels, known_classes)\n"
      ],
      "metadata": {
        "id": "RKs8MsfT3xgX"
      },
      "execution_count": null,
      "outputs": []
    },
    {
      "cell_type": "code",
      "source": [
        "# Define the 2-layer neural network\n",
        "class Net(nn.Module):\n",
        "    def __init__(self, input_dim, hidden_dim, output_dim):\n",
        "        super(Net, self).__init__()\n",
        "        self.fc1 = nn.Linear(input_dim, hidden_dim)\n",
        "        self.fc2 = nn.Linear(hidden_dim, output_dim)\n",
        "        self.sigmoid = nn.Sigmoid()\n",
        "\n",
        "    def forward(self, x):\n",
        "        x = x.view(x.size(0), -1)\n",
        "        x = self.fc1(x)\n",
        "        x = self.sigmoid(x)\n",
        "        x = self.fc2(x)\n",
        "        return x"
      ],
      "metadata": {
        "id": "1dweTksq313W"
      },
      "execution_count": null,
      "outputs": []
    },
    {
      "cell_type": "code",
      "source": [
        "def hook(module, input, output):\n",
        "    setattr(module, 'input_tensor', input[0])\n",
        "    input_copy = input[0].clone()\n",
        "    output_copy = output.clone()\n",
        "\n",
        "\n",
        "def setatr(model):\n",
        "  for name, module in model.named_modules():\n",
        "      if isinstance(module, torch.nn.Linear):\n",
        "          module.register_forward_hook(hook)"
      ],
      "metadata": {
        "id": "ZVP4EakpqL-d"
      },
      "execution_count": null,
      "outputs": []
    },
    {
      "cell_type": "code",
      "source": [
        "# Function to compute projection matrix\n",
        "def compute_proj(W):\n",
        "    WT = W.t()\n",
        "    WWt = torch.matmul(W, WT)\n",
        "    inverse_WWt = torch.inverse(WWt)\n",
        "    result = torch.matmul(torch.matmul(WT, inverse_WWt), W)\n",
        "    return result"
      ],
      "metadata": {
        "id": "ytcOfJYg33PF"
      },
      "execution_count": null,
      "outputs": []
    },
    {
      "cell_type": "code",
      "source": [
        "# Evaluate model\n",
        "def evaluate_model(model, features, labels, device):\n",
        "    model.eval()\n",
        "    corrects = 0\n",
        "    total_samples = 0\n",
        "    with torch.no_grad():\n",
        "        for i in range(0, len(features), batch_size):\n",
        "            inputs = torch.from_numpy(features[i:i+batch_size]).float().to(device)\n",
        "            labels_inputs = labels[i:i+batch_size]\n",
        "            labels_inputs = torch.tensor(labels_inputs).to(device)\n",
        "            outputs = model(inputs)\n",
        "            _, preds = torch.max(outputs, 1)\n",
        "            corrects += (preds == labels_inputs).sum().item()\n",
        "            total_samples += labels_inputs.size(0)\n",
        "    accuracy = 100.0 * corrects / total_samples\n",
        "    return accuracy"
      ],
      "metadata": {
        "id": "iCyyuvJA34u1"
      },
      "execution_count": null,
      "outputs": []
    },
    {
      "cell_type": "code",
      "source": [
        "# Training the network with and without NuSA loss\n",
        "input_dim = train_features.shape[1]\n",
        "hidden_dim = 32\n",
        "output_dim = len(known_classes)\n",
        "lr = 1e-2\n",
        "num_epochs = 10\n",
        "L = 0.1"
      ],
      "metadata": {
        "id": "99X36E0n36QO"
      },
      "execution_count": null,
      "outputs": []
    },
    {
      "cell_type": "code",
      "source": [
        "# Training without NuSA loss\n",
        "net_no_nusa = Net(input_dim, hidden_dim, output_dim)\n",
        "criterion = nn.CrossEntropyLoss()\n",
        "optimizer = optim.Adam(net_no_nusa.parameters(), lr=lr)\n",
        "\n",
        "net_no_nusa.to(device)\n",
        "criterion.to(device)"
      ],
      "metadata": {
        "id": "B78HINmv363-",
        "colab": {
          "base_uri": "https://localhost:8080/"
        },
        "outputId": "c3ddcc93-3b5e-4815-b998-3507edd9e06c"
      },
      "execution_count": null,
      "outputs": [
        {
          "output_type": "execute_result",
          "data": {
            "text/plain": [
              "CrossEntropyLoss()"
            ]
          },
          "metadata": {},
          "execution_count": 141
        }
      ]
    },
    {
      "cell_type": "code",
      "source": [
        "print(\"Training without NuSA loss\")\n",
        "for epoch in range(num_epochs):\n",
        "    net_no_nusa.train()\n",
        "    for i in range(0, len(train_features), batch_size):\n",
        "        inputs = torch.from_numpy(train_features[i:i+batch_size]).float().to(device)\n",
        "        labels = torch.from_numpy(train_labels[i:i+batch_size]).long().to(device)\n",
        "        optimizer.zero_grad()\n",
        "        outputs = net_no_nusa(inputs)\n",
        "        loss = criterion(outputs, labels)\n",
        "        loss.backward()\n",
        "        optimizer.step()"
      ],
      "metadata": {
        "id": "KtCSrMW84CFn",
        "colab": {
          "base_uri": "https://localhost:8080/"
        },
        "outputId": "c90f8294-b254-42f6-dc95-141a109043a3"
      },
      "execution_count": null,
      "outputs": [
        {
          "output_type": "stream",
          "name": "stdout",
          "text": [
            "Training without NuSA loss\n"
          ]
        }
      ]
    },
    {
      "cell_type": "code",
      "source": [
        "accuracy_no_nusa = evaluate_model(net_no_nusa, valid_features[mask], valid_labels[mask], device)\n",
        "print(\"Validation Accuracy without NuSA loss:\", accuracy_no_nusa)"
      ],
      "metadata": {
        "id": "iSaqPH-s4DY-",
        "colab": {
          "base_uri": "https://localhost:8080/"
        },
        "outputId": "f63d663e-05ab-4404-d370-e5e9e536011f"
      },
      "execution_count": null,
      "outputs": [
        {
          "output_type": "stream",
          "name": "stdout",
          "text": [
            "Validation Accuracy without NuSA loss: 92.3\n"
          ]
        }
      ]
    },
    {
      "cell_type": "code",
      "source": [
        "# Training with NuSA loss\n",
        "net_with_nusa = Net(input_dim, hidden_dim, output_dim)\n",
        "setatr(net_with_nusa)\n",
        "criterion = nn.CrossEntropyLoss()\n",
        "optimizer = optim.Adam(net_with_nusa.parameters(), lr=lr)\n",
        "\n",
        "net_with_nusa.to(device)\n",
        "criterion.to(device)"
      ],
      "metadata": {
        "id": "Cz8-gplT4HCM",
        "colab": {
          "base_uri": "https://localhost:8080/"
        },
        "outputId": "438af164-ce84-48df-f824-64a696254854"
      },
      "execution_count": null,
      "outputs": [
        {
          "output_type": "execute_result",
          "data": {
            "text/plain": [
              "CrossEntropyLoss()"
            ]
          },
          "metadata": {},
          "execution_count": 144
        }
      ]
    },
    {
      "cell_type": "code",
      "source": [
        "print(\"Training with NuSA loss\")\n",
        "for epoch in range(num_epochs):\n",
        "    net_with_nusa.train()\n",
        "    for i in range(0, len(train_features), batch_size):\n",
        "        inputs = torch.from_numpy(train_features[i:i+batch_size]).float().to(device)\n",
        "        labels = torch.from_numpy(train_labels[i:i+batch_size]).long().to(device)\n",
        "        optimizer.zero_grad()\n",
        "        outputs = net_with_nusa(inputs)\n",
        "        arr = []\n",
        "        # Compute nusa_loss for this batch\n",
        "        for name, module in net_with_nusa.named_modules():\n",
        "            if isinstance(module, torch.nn.Linear):\n",
        "                  with torch.no_grad():\n",
        "                      xl = torch.tensor(module.input_tensor.tolist(), device=device)\n",
        "                      # print(xl.shape)\n",
        "                      P = compute_proj(module.weight).to(device)\n",
        "                      # print(module.weight.shape)\n",
        "                      projection = P.matmul(xl.t())\n",
        "                      norm_projection = torch.norm(projection)\n",
        "                      norm_xl = torch.norm(xl)\n",
        "                      nusa_loss = norm_projection / norm_xl\n",
        "                      arr.append(nusa_loss)\n",
        "\n",
        "        nusa_loss_mean = torch.stack(arr).mean()\n",
        "        loss = criterion(outputs, labels) + L * nusa_loss_mean\n",
        "        loss.backward()\n",
        "        optimizer.step()"
      ],
      "metadata": {
        "id": "spyYCEz34FBn",
        "colab": {
          "base_uri": "https://localhost:8080/"
        },
        "outputId": "86c270a8-4967-469a-da7f-9bc4c8f71c27"
      },
      "execution_count": null,
      "outputs": [
        {
          "output_type": "stream",
          "name": "stdout",
          "text": [
            "Training with NuSA loss\n"
          ]
        }
      ]
    },
    {
      "cell_type": "code",
      "source": [
        "accuracy_with_nusa = evaluate_model(net_with_nusa, valid_features[mask], valid_labels[mask], device)\n",
        "print(\"Validation Accuracy with NuSA loss:\", accuracy_with_nusa)"
      ],
      "metadata": {
        "id": "jr47rTtw4KRe",
        "colab": {
          "base_uri": "https://localhost:8080/"
        },
        "outputId": "118ab13e-739a-4005-ca92-8591736339c4"
      },
      "execution_count": null,
      "outputs": [
        {
          "output_type": "stream",
          "name": "stdout",
          "text": [
            "Validation Accuracy with NuSA loss: 91.48\n"
          ]
        }
      ]
    },
    {
      "cell_type": "code",
      "source": [
        "# Outlier detection\n",
        "outlier_indicators = []\n",
        "outlier_class_labels = []\n",
        "threshold = 0.57\n",
        "\n",
        "out_nusa = []\n",
        "nonout_nusa = []\n",
        "\n",
        "with torch.no_grad():\n",
        "    for i in range(len(valid_features)):\n",
        "        nusa = 0.0\n",
        "        sample = valid_features[i]\n",
        "        label = valid_labels[i]\n",
        "        inputs = torch.from_numpy(sample).unsqueeze(0).float().to(device)\n",
        "        outputs = net_with_nusa(inputs)\n",
        "        arr = []\n",
        "        for name, module in net_with_nusa.named_modules():\n",
        "            if isinstance(module, torch.nn.Linear):\n",
        "                  with torch.no_grad():\n",
        "                      xl = torch.tensor(module.input_tensor.tolist(), device=device)\n",
        "                      # print(xl.shape)\n",
        "                      P = compute_proj(module.weight).to(device)\n",
        "                      # print(module.weight.shape)\n",
        "                      projection = P.matmul(xl.t())\n",
        "                      norm_projection = torch.norm(projection)\n",
        "                      norm_xl = torch.norm(xl)\n",
        "                      nusa_loss = norm_projection / norm_xl\n",
        "                      arr.append(nusa_loss)\n",
        "\n",
        "        nusa_mean = torch.stack(arr).mean()\n",
        "        if label in known_classes:\n",
        "            nonout_nusa.append(nusa_mean)\n",
        "            outlier_indicators.append(0)\n",
        "            outlier_class_labels.append(torch.argmax(outputs).item())\n",
        "        else:\n",
        "            out_nusa.append(nusa_mean)\n",
        "            if nusa_mean > threshold:\n",
        "                outlier_indicators.append(1)\n",
        "                outlier_class_labels.append(None)\n",
        "            else:\n",
        "                outlier_indicators.append(2)\n",
        "                outlier_class_labels.append(torch.argmax(outputs).item())"
      ],
      "metadata": {
        "id": "a3_DpUe7xfZX"
      },
      "execution_count": null,
      "outputs": []
    },
    {
      "cell_type": "code",
      "source": [
        "print(\"NuSa for non-outliers\", torch.tensor(nonout_nusa).to(device).mean().item())\n",
        "print(\"NuSa for outliers\", torch.tensor(out_nusa).to(device).mean().item())"
      ],
      "metadata": {
        "id": "JrwERNiKwOkI",
        "colab": {
          "base_uri": "https://localhost:8080/"
        },
        "outputId": "c8d5be44-5bed-4a38-b0da-35d5799c43b2"
      },
      "execution_count": null,
      "outputs": [
        {
          "output_type": "stream",
          "name": "stdout",
          "text": [
            "NuSa for non-outliers 0.5825128555297852\n",
            "NuSa for outliers 0.5539392828941345\n"
          ]
        }
      ]
    },
    {
      "cell_type": "code",
      "source": [
        "print(nonout_nusa[:20])\n",
        "\n",
        "print(out_nusa[:20])"
      ],
      "metadata": {
        "id": "DmKRGC5L2hAu",
        "colab": {
          "base_uri": "https://localhost:8080/"
        },
        "outputId": "1c58aa19-e157-47ec-f3bf-8e7ffa95fd6d"
      },
      "execution_count": null,
      "outputs": [
        {
          "output_type": "stream",
          "name": "stdout",
          "text": [
            "[tensor(0.6016, device='cuda:0'), tensor(0.6041, device='cuda:0'), tensor(0.6147, device='cuda:0'), tensor(0.5911, device='cuda:0'), tensor(0.6003, device='cuda:0'), tensor(0.5184, device='cuda:0'), tensor(0.5833, device='cuda:0'), tensor(0.5360, device='cuda:0'), tensor(0.5892, device='cuda:0'), tensor(0.6015, device='cuda:0'), tensor(0.5598, device='cuda:0'), tensor(0.5807, device='cuda:0'), tensor(0.5344, device='cuda:0'), tensor(0.6067, device='cuda:0'), tensor(0.5807, device='cuda:0'), tensor(0.5067, device='cuda:0'), tensor(0.5739, device='cuda:0'), tensor(0.5760, device='cuda:0'), tensor(0.5528, device='cuda:0'), tensor(0.6013, device='cuda:0')]\n",
            "[tensor(0.5896, device='cuda:0'), tensor(0.5565, device='cuda:0'), tensor(0.5057, device='cuda:0'), tensor(0.5567, device='cuda:0'), tensor(0.5738, device='cuda:0'), tensor(0.5383, device='cuda:0'), tensor(0.5678, device='cuda:0'), tensor(0.5860, device='cuda:0'), tensor(0.5562, device='cuda:0'), tensor(0.6228, device='cuda:0'), tensor(0.5471, device='cuda:0'), tensor(0.5548, device='cuda:0'), tensor(0.5457, device='cuda:0'), tensor(0.5872, device='cuda:0'), tensor(0.4599, device='cuda:0'), tensor(0.5769, device='cuda:0'), tensor(0.5455, device='cuda:0'), tensor(0.5695, device='cuda:0'), tensor(0.5708, device='cuda:0'), tensor(0.5698, device='cuda:0')]\n"
          ]
        }
      ]
    },
    {
      "cell_type": "code",
      "source": [],
      "metadata": {
        "id": "1c2atXw13zEP"
      },
      "execution_count": null,
      "outputs": []
    }
  ]
}